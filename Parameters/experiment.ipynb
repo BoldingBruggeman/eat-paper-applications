{
 "cells": [
  {
   "cell_type": "code",
   "execution_count": null,
   "metadata": {
    "tags": []
   },
   "outputs": [],
   "source": [
    "# Import modules\n",
    "import sys\n",
    "import warnings\n",
    "import shutil\n",
    "warnings.filterwarnings('ignore')\n",
    "\n",
    "import numpy as np\n",
    "%matplotlib widget\n",
    "from matplotlib import pyplot\n",
    "import cmocean\n",
    "\n",
    "import eatpy\n",
    "\n",
    "sys.path.append(\"..\")\n",
    "import shared\n",
    "\n",
    "# Experiment configuration\n",
    "N = 20                     # ensemble size\n",
    "varname = \"P1_Chl\"\n",
    "parname = \"instances_P1_parameters_sum\"\n",
    "cmap = cmocean.cm.algae"
   ]
  },
  {
   "cell_type": "code",
   "execution_count": null,
   "metadata": {},
   "outputs": [],
   "source": [
    "# Read satellite observations of surface chlorophyll\n",
    "obs = shared.read_0d_observations(\"P1_Chl_cci_5d.dat\")"
   ]
  },
  {
   "cell_type": "markdown",
   "metadata": {},
   "source": [
    "# Reference simulation\n",
    "\n",
    "Forecast-only, no data assimilation"
   ]
  },
  {
   "cell_type": "code",
   "execution_count": null,
   "metadata": {},
   "outputs": [],
   "source": [
    "# Set up the initial state, which is the result of a 7-year spin-up\n",
    "shutil.copyfile('restart_01112014.nc', 'restart.nc')\n",
    "\n",
    "# Run the model\n",
    "!eat-gotm"
   ]
  },
  {
   "attachments": {},
   "cell_type": "markdown",
   "metadata": {},
   "source": [
    "## Load and plot results"
   ]
  },
  {
   "cell_type": "code",
   "execution_count": null,
   "metadata": {},
   "outputs": [],
   "source": [
    "# Load results from GOTM's NetCDF output\n",
    "time, z, ref, long_name, units = shared.read_result(\"result.nc\", varname)\n",
    "\n",
    "fig, ((ax1, cax1), (ax2, cax2)) = pyplot.subplots(\n",
    "    figsize=(8, 6), nrows=2, ncols=2, width_ratios=[0.95, 0.05], sharex=\"col\"\n",
    ")\n",
    "\n",
    "# Plot time series of surface chlorophyll\n",
    "shared.plot_0d_timeseries(ax1, time, ref[:, -1], obs)\n",
    "ax1.set_ylabel(f\"{long_name} ({units})\")\n",
    "ax1.set_title(f\"surface {long_name}\")\n",
    "cax1.axis(\"off\")\n",
    "\n",
    "# Plot time-varying depth distributon of chlorophyll\n",
    "pc, cb = shared.plot_1d_timeseries(ax2, time, z, ref, 20, cax=cax2, cmap=cmap)\n",
    "cb.set_label(f\"{long_name} ({units})\")\n",
    "ax2.set_title(long_name)\n",
    "\n",
    "fig.tight_layout()"
   ]
  },
  {
   "cell_type": "markdown",
   "metadata": {},
   "source": [
    "# Data assimilation\n",
    "\n",
    "## Create the ensemble"
   ]
  },
  {
   "cell_type": "code",
   "execution_count": null,
   "metadata": {},
   "outputs": [],
   "source": [
    "gotm = eatpy.models.gotm.YAMLEnsemble(\"gotm.yaml\", N)\n",
    "fabm = eatpy.models.gotm.YAMLEnsemble(\"fabm.yaml\", N)\n",
    "with gotm, fabm:\n",
    "    gotm[\"fabm/yaml_file\"] = fabm.file_paths\n",
    "    fabm[\"instances/P1/parameters/sum\"] *= np.random.uniform(low=0.7, high=1.3, size=N)"
   ]
  },
  {
   "cell_type": "markdown",
   "metadata": {},
   "source": [
    "## Run data assimilation experiment"
   ]
  },
  {
   "cell_type": "code",
   "execution_count": null,
   "metadata": {},
   "outputs": [],
   "source": [
    "# Set up the initial state, which is the result of a 7-year spin-up\n",
    "# Note that this needs to be done again after the free run,\n",
    "# as this run has saved its final state in restart.nc.\n",
    "shutil.copyfile('restart_01112014.nc', 'restart.nc')\n",
    "\n",
    "# Run the experiment\n",
    "!mpiexec -n 1 python run.py : -n {N} eat-gotm --separate_gotm_yaml"
   ]
  },
  {
   "attachments": {},
   "cell_type": "markdown",
   "metadata": {},
   "source": [
    "## Load ensemble results"
   ]
  },
  {
   "cell_type": "code",
   "execution_count": null,
   "metadata": {},
   "outputs": [],
   "source": [
    "enstime, ensz, ens, long_name, units = shared.read_ensemble_result(\"result.nc\", varname, N)"
   ]
  },
  {
   "cell_type": "markdown",
   "metadata": {},
   "source": [
    "## Plot\n",
    "\n",
    "### Chlorophyll"
   ]
  },
  {
   "cell_type": "code",
   "execution_count": null,
   "metadata": {},
   "outputs": [],
   "source": [
    "fig, ((ax1, cax1), (ax2, cax2), (ax3, cax3)) = pyplot.subplots(\n",
    "    figsize=(10, 10),\n",
    "    nrows=3,\n",
    "    ncols=2,\n",
    "    sharex=\"col\",\n",
    "    width_ratios=[0.95, 0.05],\n",
    "    height_ratios=[0.4, 0.3, 0.3],\n",
    ")\n",
    "\n",
    "# Plot time series of surface chlorophyll\n",
    "shared.plot_0d_ensemble_timeseries(ax1, enstime, ens[:, :, -1], [(\"model, free run\", ref[:, -1])], obs, label=\"with DA\")\n",
    "ax1.set_ylabel(f\"{long_name} ({units})\")\n",
    "ax1.set_title(\"surface diatom chlorophyll\")\n",
    "ax1.set_ylim(0.0, 4.0)\n",
    "cax1.axis(\"off\")\n",
    "\n",
    "# Plot time-varying depth distributon of chlorophyll for free run\n",
    "chl_contours = np.linspace(0.0, 2.0, 11)\n",
    "pc, cb = shared.plot_1d_timeseries(\n",
    "    ax2, time, z, ref, chl_contours, cmap=cmap, extend=\"max\", cax=cax2\n",
    ")\n",
    "cb.set_label(f\"{long_name} ({units})\")\n",
    "ax2.set_title(\"simulated diatom chlorophyll (free run)\")\n",
    "\n",
    "# Plot time-varying depth distributon of chlorophyll for run with DA\n",
    "_, cb = shared.plot_1d_ensemble_timeseries(\n",
    "    ax3, enstime, ensz, ens, chl_contours, cmap=cmap, extend=\"max\", cax=cax3\n",
    ")\n",
    "cb.set_label(f\"{long_name} ({units})\")\n",
    "ax3.set_title(\"simulated diatom chlorophyll (DA)\")\n",
    "\n",
    "fig.tight_layout()\n",
    "\n",
    "fig.savefig(\"chl.png\", dpi=150)"
   ]
  },
  {
   "cell_type": "markdown",
   "metadata": {},
   "source": [
    "### Time variation in diatom growth rate"
   ]
  },
  {
   "cell_type": "code",
   "execution_count": null,
   "metadata": {},
   "outputs": [],
   "source": [
    "fig, ax = pyplot.subplots(figsize=(8, 4))\n",
    "enstime, _, par_ens, long_name, units = shared.read_ensemble_result(\n",
    "    \"result.nc\", parname, N\n",
    ")\n",
    "constant_par = np.full_like(par_ens[0], 1.375)\n",
    "shared.plot_0d_ensemble_timeseries(\n",
    "    ax, enstime, par_ens, [(\"no DA\", constant_par)], filter_period=31\n",
    ")\n",
    "ax.set_ylabel(f\"maximum specific productivity ({units})\")\n",
    "ax.set_title(\"diatom maximum specific productivity\")\n",
    "fig.tight_layout()\n",
    "fig.savefig(\"par.png\", dpi=150)"
   ]
  },
  {
   "cell_type": "code",
   "execution_count": null,
   "metadata": {},
   "outputs": [],
   "source": []
  }
 ],
 "metadata": {
  "kernelspec": {
   "display_name": "Python 3 (ipykernel)",
   "language": "python",
   "name": "python3"
  },
  "language_info": {
   "codemirror_mode": {
    "name": "ipython",
    "version": 3
   },
   "file_extension": ".py",
   "mimetype": "text/x-python",
   "name": "python",
   "nbconvert_exporter": "python",
   "pygments_lexer": "ipython3",
   "version": "3.12.0"
  },
  "vscode": {
   "interpreter": {
    "hash": "e4cce46d6be9934fbd27f9ca0432556941ea5bdf741d4f4d64c6cd7f8dfa8fba"
   }
  }
 },
 "nbformat": 4,
 "nbformat_minor": 4
}
