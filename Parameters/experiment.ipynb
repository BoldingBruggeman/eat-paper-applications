{
 "cells": [
  {
   "cell_type": "markdown",
   "metadata": {},
   "source": [
    "# EAT example #3: Parameters\n",
    "\n",
    "Ensemble-based biogeochemical data\n",
    "assimilation to estimate a parameter (maximum growth rate of diatoms) of the ERSEM\n",
    "biogeochemical model at a site in the Western English Channel"
   ]
  },
  {
   "cell_type": "markdown",
   "metadata": {},
   "source": [
    "## Import and configure"
   ]
  },
  {
   "cell_type": "code",
   "execution_count": null,
   "metadata": {
    "tags": []
   },
   "outputs": [],
   "source": [
    "# Imports from standard library\n",
    "import mpi4py.rc\n",
    "mpi4py.rc.initialize = False\n",
    "\n",
    "import sys\n",
    "import os\n",
    "import warnings\n",
    "import shutil\n",
    "warnings.filterwarnings('ignore')\n",
    "\n",
    "# Import of third party packages\n",
    "import numpy as np\n",
    "%matplotlib widget\n",
    "from matplotlib import pyplot\n",
    "import cmocean\n",
    "\n",
    "# EAT itself\n",
    "import eatpy\n",
    "\n",
    "# Shared postprocessing scripts\n",
    "sys.path.append(\"..\")\n",
    "import shared\n",
    "\n",
    "# For reproducibility, use seed.dat to store/load random seed\n",
    "rng = np.random.default_rng(shared.seed(\"seed.dat\"))\n",
    "\n",
    "# Experiment configuration\n",
    "N = 50   # ensemble size\n",
    "varname = \"P1_Chl\"\n",
    "parname = \"instances/P1/parameters/sum\"\n",
    "cmap = cmocean.cm.algae\n",
    "\n",
    "# For automated testing we reduce the ensemble size\n",
    "if \"GITHUB_ACTIONS\" in os.environ:\n",
    "    N = 2"
   ]
  },
  {
   "cell_type": "markdown",
   "metadata": {},
   "source": [
    "## Load observations"
   ]
  },
  {
   "cell_type": "code",
   "execution_count": null,
   "metadata": {},
   "outputs": [],
   "source": [
    "# Read satellite observations of surface chlorophyll\n",
    "obs = shared.read_0d_observations(\"P1_Chl_cci_5d.dat\")"
   ]
  },
  {
   "cell_type": "markdown",
   "metadata": {},
   "source": [
    "# Reference simulation\n",
    "\n",
    "Forecast-only, no data assimilation"
   ]
  },
  {
   "cell_type": "code",
   "execution_count": null,
   "metadata": {},
   "outputs": [],
   "source": [
    "# Set up the initial state, which is the result of a 7-year spin-up\n",
    "shutil.copyfile(\"restart_01112014.nc\", \"restart.nc\")\n",
    "\n",
    "# Run the model\n",
    "!eat-gotm"
   ]
  },
  {
   "attachments": {},
   "cell_type": "markdown",
   "metadata": {},
   "source": [
    "## Load and plot results"
   ]
  },
  {
   "cell_type": "code",
   "execution_count": null,
   "metadata": {},
   "outputs": [],
   "source": [
    "# Load results from GOTM's NetCDF output\n",
    "time, z, ref, long_name, units = shared.read_result(\"result.nc\", varname)\n",
    "\n",
    "# Create figure\n",
    "fig, ((ax1, cax1), (ax2, cax2)) = pyplot.subplots(\n",
    "    figsize=(8, 6), nrows=2, ncols=2, width_ratios=[0.95, 0.05], sharex=\"col\"\n",
    ")\n",
    "\n",
    "# Plot time series of surface chlorophyll\n",
    "shared.plot_0d_timeseries(ax1, time, ref[:, -1], obs)\n",
    "ax1.set_ylabel(f\"{long_name} ({units})\")\n",
    "ax1.set_title(f\"surface {long_name}\")\n",
    "\n",
    "cax1.axis(\"off\")\n",
    "\n",
    "# Plot time-varying depth distributon of chlorophyll\n",
    "pc, cb = shared.plot_1d_timeseries(ax2, time, z, ref, 20, cax=cax2, cmap=cmap)\n",
    "cb.set_label(f\"{long_name} ({units})\")\n",
    "ax2.set_title(long_name)\n",
    "\n",
    "fig.tight_layout()"
   ]
  },
  {
   "cell_type": "markdown",
   "metadata": {},
   "source": [
    "# Data assimilation\n",
    "\n",
    "## Create the ensemble"
   ]
  },
  {
   "cell_type": "code",
   "execution_count": null,
   "metadata": {},
   "outputs": [],
   "source": [
    "gotm = eatpy.models.gotm.YAMLEnsemble(\"gotm.yaml\", N)\n",
    "fabm = eatpy.models.gotm.YAMLEnsemble(\"fabm.yaml\", N)\n",
    "ref_par_value = fabm[parname]\n",
    "with gotm, fabm:\n",
    "    gotm[\"fabm/yaml_file\"] = fabm.file_paths\n",
    "    fabm[parname] *= rng.uniform(low=0.7, high=1.3, size=N)"
   ]
  },
  {
   "cell_type": "markdown",
   "metadata": {},
   "source": [
    "## Run data assimilation experiment\n",
    "\n",
    "The command in the cell below runs EAT locally. This includes the run\n",
    "script and all N ensemble members, that is, N+1 processes in total.\n",
    "If you have EAT installed on a HPC cluster, you can often speed\n",
    "up the experiment by placing the command in a job submission script\n",
    "(replace `{N}` by your desired ensemble size) and submitting that\n",
    "to your cluster's queuing system. In that case, there is no need to\n",
    "execute the cell below."
   ]
  },
  {
   "cell_type": "code",
   "execution_count": null,
   "metadata": {},
   "outputs": [],
   "source": [
    "# Set up the initial state, which is the result of a 7-year spin-up\n",
    "# Note that this needs to be done again after the free run,\n",
    "# as this run has saved its final state in restart.nc.\n",
    "shutil.copyfile('restart_01112014.nc', 'restart.nc')\n",
    "\n",
    "# Run the experiment\n",
    "!mpiexec -n 1 python run.py : -n {N} eat-gotm --separate_gotm_yaml"
   ]
  },
  {
   "cell_type": "markdown",
   "metadata": {},
   "source": [
    "## Load and plot results\n",
    "\n",
    "### Chlorophyll"
   ]
  },
  {
   "cell_type": "code",
   "execution_count": null,
   "metadata": {},
   "outputs": [],
   "source": [
    "# Load results\n",
    "enstime, ensz, ens, long_name, units = shared.read_ensemble_result(\n",
    "    \"result.nc\", varname, N\n",
    ")\n",
    "\n",
    "# Create figure\n",
    "fig, ((ax1, cax1), (ax2, cax2), (ax3, cax3)) = pyplot.subplots(\n",
    "    figsize=(8, 10),\n",
    "    nrows=3,\n",
    "    ncols=2,\n",
    "    sharex=\"col\",\n",
    "    width_ratios=[0.95, 0.05],\n",
    "    height_ratios=[0.4, 0.3, 0.3],\n",
    ")\n",
    "\n",
    "# Plot surface chlorophyll\n",
    "shared.plot_0d_ensemble_timeseries(\n",
    "    ax1, enstime, ens[:, :, -1], [(\"model, free run\", ref[:, -1])], obs, label=\"with DA\"\n",
    ")\n",
    "ax1.set_ylabel(f\"{long_name} ({units})\")\n",
    "ax1.set_title(\"surface diatom chlorophyll\")\n",
    "ax1.set_ylim(0.0, 4.0)\n",
    "cax1.axis(\"off\")\n",
    "\n",
    "# Plot chlorophyll throughout the water column for free run\n",
    "chl_contours = np.linspace(0.0, 2.0, 11)\n",
    "pc, cb = shared.plot_1d_timeseries(\n",
    "    ax2, time, z, ref, chl_contours, cmap=cmap, extend=\"max\", cax=cax2\n",
    ")\n",
    "cb.set_label(\"chlorophyll (mg m⁻³)\")\n",
    "ax2.set_title(\"simulated diatom chlorophyll (free run)\")\n",
    "\n",
    "# Plot chlorophyll throughout the water column for run with DA\n",
    "_, cb = shared.plot_1d_ensemble_timeseries(\n",
    "    ax3, enstime, ensz, ens, chl_contours, cmap=cmap, extend=\"max\", cax=cax3\n",
    ")\n",
    "cb.set_label(\"chlorophyll (mg m⁻³)\")\n",
    "ax3.set_title(\"simulated diatom chlorophyll (DA)\")\n",
    "\n",
    "fig.tight_layout()\n",
    "\n",
    "fig.savefig(\"chl_da.png\", dpi=150)"
   ]
  },
  {
   "cell_type": "markdown",
   "metadata": {},
   "source": [
    "### Time variation in diatom growth rate"
   ]
  },
  {
   "cell_type": "code",
   "execution_count": null,
   "metadata": {},
   "outputs": [],
   "source": [
    "# Load result. Fill reference time series with original [constant] parameter value\n",
    "enstime, _, par_ens, long_name, units = shared.read_ensemble_result(\n",
    "    \"result.nc\", parname.replace(\"/\", \"_\"), N\n",
    ")\n",
    "constant_par = np.full_like(par_ens[0], ref_par_value)\n",
    "\n",
    "# Create figure and plot parameter time series\n",
    "fig, ax = pyplot.subplots(figsize=(8, 4))\n",
    "shared.plot_0d_ensemble_timeseries(\n",
    "    ax, enstime, par_ens, [(\"no DA\", constant_par)], filter_period=31\n",
    ")\n",
    "ax.set_ylabel(f\"maximum specific productivity (d⁻¹)\")\n",
    "ax.set_title(\"diatom maximum specific productivity\")\n",
    "fig.tight_layout()\n",
    "fig.savefig(\"par_da.png\", dpi=150)"
   ]
  },
  {
   "cell_type": "code",
   "execution_count": null,
   "metadata": {},
   "outputs": [],
   "source": []
  }
 ],
 "metadata": {
  "kernelspec": {
   "display_name": "Python 3 (ipykernel)",
   "language": "python",
   "name": "python3"
  },
  "language_info": {
   "codemirror_mode": {
    "name": "ipython",
    "version": 3
   },
   "file_extension": ".py",
   "mimetype": "text/x-python",
   "name": "python",
   "nbconvert_exporter": "python",
   "pygments_lexer": "ipython3",
   "version": "3.11.8"
  },
  "vscode": {
   "interpreter": {
    "hash": "e4cce46d6be9934fbd27f9ca0432556941ea5bdf741d4f4d64c6cd7f8dfa8fba"
   }
  }
 },
 "nbformat": 4,
 "nbformat_minor": 4
}
