{
 "cells": [
  {
   "cell_type": "code",
   "execution_count": null,
   "metadata": {
    "tags": []
   },
   "outputs": [],
   "source": [
    "import os.path\n",
    "import datetime\n",
    "import warnings\n",
    "warnings.filterwarnings('ignore')\n",
    "\n",
    "import numpy as np\n",
    "import netCDF4\n",
    "%matplotlib widget\n",
    "from matplotlib import pyplot\n",
    "from matplotlib import dates\n",
    "\n",
    "setup_dir = \".\"\n",
    "sst_da_dir = \".\"\n",
    "varname = \"P1_Chl\"\n",
    "cmap = 'viridis'          # color map to use for filled contour plots [alternative: cmocean.cm.thermal]\n",
    "N = 2                     # ensemble size"
   ]
  },
  {
   "cell_type": "code",
   "execution_count": null,
   "metadata": {},
   "outputs": [],
   "source": [
    "# Read satellite observations of sea surface temperature\n",
    "obs = []\n",
    "for l in open(os.path.join(setup_dir, 'P1_Chl_cci_5d.dat')):\n",
    "    if not l.startswith('#'):\n",
    "        dt, value, sd = l.rstrip().rsplit(maxsplit=2)\n",
    "        mu = float(value)\n",
    "        sigma = float(sd)\n",
    "        obs.append([datetime.datetime.strptime(dt, '%Y-%m-%d %H:%M:%S'), mu, mu-0.67448*sigma, mu+0.67448*sigma])\n",
    "obs = np.array(obs).reshape(-1, 4)"
   ]
  },
  {
   "attachments": {},
   "cell_type": "markdown",
   "metadata": {},
   "source": [
    "## Plot reference GOTM results\n",
    "\n",
    "Forecast-only, no data assimilation"
   ]
  },
  {
   "cell_type": "code",
   "execution_count": null,
   "metadata": {},
   "outputs": [],
   "source": [
    "nc = netCDF4.Dataset(os.path.join(setup_dir, 'result.nc'))\n",
    "\n",
    "time = netCDF4.num2date(nc['time'], nc['time'].units)\n",
    "mpltime = dates.date2num(time)\n",
    "z = -nc['z'][:, :, 0, 0]\n",
    "ncvar = nc[varname]\n",
    "ref = ncvar[:, :, 0, 0]\n",
    "ref_sf = ref[:, -1]\n",
    "\n",
    "fig, ((ax1, cax1), (ax2, cax2)) = pyplot.subplots(figsize=(8,6), nrows=2, ncols=2, width_ratios=[0.95, 0.05], sharex='col')\n",
    "\n",
    "ax1.plot_date(obs[:,0], obs[:,1], '.k', label='satellite')\n",
    "ax1.plot_date(mpltime, ref_sf, '-', color='C0', label='model')\n",
    "ax1.set_xlim(mpltime[0], mpltime[-1])\n",
    "ax1.set_ylabel(f'{ncvar.long_name} ({ncvar.units})')\n",
    "ax1.grid()\n",
    "ax1.legend()\n",
    "ax1.set_title(f'surface {ncvar.long_name}')\n",
    "cax1.axis('off')\n",
    "\n",
    "mpltime_2d = np.broadcast_to(mpltime[:, np.newaxis], z.shape)\n",
    "pc = ax2.contourf(mpltime_2d, z, ref, 20)\n",
    "cb = fig.colorbar(pc, cax=cax2)\n",
    "cb.set_label(f'{ncvar.long_name} ({ncvar.units})')\n",
    "ax2.set_ylabel('depth (m)')\n",
    "ax2.set_title(ncvar.long_name)\n",
    "ax2.xaxis.axis_date()\n",
    "ax2.set_ylim(z.max(), z.min())\n",
    "ax2.grid()\n",
    "\n",
    "fig.tight_layout()"
   ]
  },
  {
   "attachments": {},
   "cell_type": "markdown",
   "metadata": {},
   "source": [
    "## Plot ensemble GOTM results"
   ]
  },
  {
   "cell_type": "code",
   "execution_count": null,
   "metadata": {},
   "outputs": [],
   "source": [
    "# Load ensemble results\n",
    "ncs = [netCDF4.Dataset(os.path.join(setup_dir, 'result_%04i.nc' % (i + 1))) for i in range(N)]\n",
    "\n",
    "enstime = netCDF4.num2date(ncs[0]['time'], ncs[0]['time'].units)\n",
    "ensmpltime = dates.date2num(enstime)\n",
    "z = -ncs[0].variables['z'][:, :, 0, 0]\n",
    "ens = [nc[varname][:, :, 0, 0] for nc in ncs]\n",
    "ens_sf = [v[:, -1] for v in ens]"
   ]
  },
  {
   "cell_type": "code",
   "execution_count": null,
   "metadata": {},
   "outputs": [],
   "source": [
    "# Plot results\n",
    "\n",
    "fig, ((ax1, cax1), (ax2, cax2), (ax3, cax3)) = pyplot.subplots(figsize=(10,10), nrows=3, ncols=2, sharex='col', width_ratios=[0.95, 0.05], height_ratios=[0.4, 0.3, 0.3])\n",
    "low = obs[:,1] - obs[:,2]\n",
    "high = obs[:,3] - obs[:,1]\n",
    "#ax1.plot_date(obs[:,0], obs[:,1], '.k', alpha=0.4, label='satellite')\n",
    "ax1.errorbar(obs[:,0], obs[:,1], yerr=[low, high], ecolor='k', elinewidth=1., fmt='.k', alpha=0.4, zorder=-1, label='observations')\n",
    "ax1.plot_date(time, ref_sf, '-', color='C0', label='model, free run')\n",
    "if setup_dir != sst_da_dir:\n",
    "    ens_phys_only = [nc[varname][:, :, 0, 0] for nc in ncs_sst_only]\n",
    "    ens_sf_phys_only = [temp[:, -1] for temp in ens_phys_only]\n",
    "    ax1.plot_date(enstime, np.mean(ens_sf_phys_only, axis=0), '-', color='C2', label='model, phys DA')\n",
    "ax1.plot_date(enstime, np.mean(ens_sf, axis=0), '-', color='C1', label='model, with DA')\n",
    "ax1.set_xlim(time[0], time[-1])\n",
    "#ax1.set_xlim(datetime.datetime(2021,1,1), time[-1])\n",
    "ax1.set_ylabel(f'chlorophyll ({ncvar.units})')\n",
    "ax1.grid()\n",
    "ax1.legend()\n",
    "ax1.set_title('surface diatom chlorophyll')\n",
    "ax1.set_ylim(0, 4)\n",
    "cax1.axis('off')\n",
    "\n",
    "chl_contours = np.linspace(0., 2., 11)\n",
    "mpltime_2d = np.broadcast_to(ensmpltime[:, np.newaxis], z.shape)\n",
    "ens_mean = np.mean(ens, axis=0)\n",
    "\n",
    "ens_diff = ens_mean - ref[-enstime.size:, :]\n",
    "pc = ax2.contourf(mpltime_2d, z, ref, chl_contours, cmap=cmap, extend='max')\n",
    "cb = fig.colorbar(pc, cax=cax2)\n",
    "cb.set_label(f'chlorophyll ({ncvar.units})')\n",
    "ax2.set_ylabel('height (m)')\n",
    "ax2.set_title(f'simulated diatom chlorophyll (free run)');\n",
    "ax2.grid()\n",
    "ax2.xaxis.axis_date()\n",
    "ax2.set_ylim(z.max(), z.min())\n",
    "\n",
    "#pc = ax3.contourf(mpltime_2d, z, temp_diff, cmap='RdBu_r', levels=np.linspace(-3.5,3.5,21), extend='both')\n",
    "pc = ax3.contourf(mpltime_2d, z, ens_mean, chl_contours, cmap=cmap, extend='max')\n",
    "cb = fig.colorbar(pc, cax=cax3)\n",
    "cb.set_label(f'chlorophyll ({ncvar.units})')\n",
    "ax3.set_ylabel('height (m)')\n",
    "ax3.set_title(f'simulated diatom chlorophyll (DA)');\n",
    "ax3.grid()\n",
    "ax3.xaxis.axis_date()\n",
    "ax3.set_ylim(z.max(), z.min())\n",
    "\n",
    "fig.tight_layout()\n",
    "fig.savefig('chl.png', dpi=150)"
   ]
  },
  {
   "cell_type": "code",
   "execution_count": null,
   "metadata": {},
   "outputs": [],
   "source": [
    "# Plot time variation in biogeochemical parameters - only if estimating these!\n",
    "import scipy.signal\n",
    "estimated_pars = \"instances_P1_parameters_sum\",\n",
    "\n",
    "FILTER_PERIOD = 31\n",
    "fig, (axes,) = pyplot.subplots(figsize=(8, 4 * len(estimated_pars)), nrows=len(estimated_pars), squeeze=False)\n",
    "for parname, ax in zip(estimated_pars, axes):\n",
    "    par_ens = np.array([nc[parname][:, 0, 0] for nc in ncs])\n",
    "\n",
    "    par_ens = scipy.signal.medfilt(par_ens, (1, FILTER_PERIOD))\n",
    "\n",
    "    ax.fill_between(ensmpltime, par_ens.min(axis=0), par_ens.max(axis=0), alpha=0.4)\n",
    "    p25 = np.percentile(par_ens, 25.0, axis=0)\n",
    "    p75 = np.percentile(par_ens, 75.0, axis=0)\n",
    "    median = np.percentile(par_ens, 50.0, axis=0)\n",
    "\n",
    "    #p25 = scipy.signal.medfilt(p25, FILTER_PERIOD)\n",
    "    #p75 = scipy.signal.medfilt(p75, FILTER_PERIOD)\n",
    "    #median = scipy.signal.medfilt(median, FILTER_PERIOD)\n",
    "\n",
    "    ax.fill_between(ensmpltime, p25, p75, alpha=0.5)\n",
    "    ax.plot(ensmpltime, median, '-k')\n",
    "    ax.xaxis.axis_date()\n",
    "    ncpar = ncs[0][parname]\n",
    "    ax.set_ylabel(f\"{ncpar.long_name} ({ncpar.units})\")\n",
    "    ax.grid()\n",
    "    ax.set_title(parname)\n",
    "ax.axhline(1.375, color='r', ls='--')\n",
    "fig.tight_layout()\n",
    "fig.savefig('par.png', dpi=150)"
   ]
  },
  {
   "cell_type": "code",
   "execution_count": null,
   "metadata": {},
   "outputs": [],
   "source": []
  }
 ],
 "metadata": {
  "kernelspec": {
   "display_name": "Python 3 (ipykernel)",
   "language": "python",
   "name": "python3"
  },
  "language_info": {
   "codemirror_mode": {
    "name": "ipython",
    "version": 3
   },
   "file_extension": ".py",
   "mimetype": "text/x-python",
   "name": "python",
   "nbconvert_exporter": "python",
   "pygments_lexer": "ipython3",
   "version": "3.9.16"
  },
  "vscode": {
   "interpreter": {
    "hash": "e4cce46d6be9934fbd27f9ca0432556941ea5bdf741d4f4d64c6cd7f8dfa8fba"
   }
  }
 },
 "nbformat": 4,
 "nbformat_minor": 4
}
