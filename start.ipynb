{
 "cells": [
  {
   "cell_type": "markdown",
   "id": "7b62b4ce",
   "metadata": {},
   "source": [
    "Three applications are provided:\n",
    "\n",
    "* [Ensemble](Ensemble/experiment.ipynb): ensemble-based physical and biogeochemical data\n",
    "  assimilation with the PISCES biogeochemical model at a North Sea site.\n",
    "* [Variational](Variational/experiment.ipynb): 3D-Var biogeochemical data assimilation\n",
    "  with the BFM biogeochemical model at a site in the Mediterranean Sea.\n",
    "* [Parameters](Parameters/experiment.ipynb): ensemble-based biogeochemical data\n",
    "  assimilation to estimate a parameter (maximum growth rate of diatoms) of the ERSEM\n",
    "  biogeochemical model at a site in the Western English Channel.\n"
   ]
  },
  {
   "cell_type": "markdown",
   "id": "e6fea94a",
   "metadata": {},
   "source": []
  }
 ],
 "metadata": {
  "kernelspec": {
   "display_name": "Python 3 (ipykernel)",
   "language": "python",
   "name": "python3"
  },
  "language_info": {
   "codemirror_mode": {
    "name": "ipython",
    "version": 3
   },
   "file_extension": ".py",
   "mimetype": "text/x-python",
   "name": "python",
   "nbconvert_exporter": "python",
   "pygments_lexer": "ipython3",
   "version": "3.12.0"
  }
 },
 "nbformat": 4,
 "nbformat_minor": 5
}
