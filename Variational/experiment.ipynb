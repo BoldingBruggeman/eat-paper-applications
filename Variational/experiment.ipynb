{
 "cells": [
  {
   "cell_type": "markdown",
   "metadata": {},
   "source": [
    "# EAT example #2: Variational\n",
    "\n",
    "3D-Var biogeochemical data assimilation with the BFM biogeochemical model at a site in the Mediterranean Sea"
   ]
  },
  {
   "cell_type": "markdown",
   "metadata": {},
   "source": [
    "## Import"
   ]
  },
  {
   "cell_type": "code",
   "execution_count": null,
   "metadata": {
    "tags": []
   },
   "outputs": [],
   "source": [
    "# Imports from standard library\n",
    "import sys\n",
    "import shutil\n",
    "import warnings\n",
    "warnings.filterwarnings(\"ignore\")\n",
    "\n",
    "# Import of third party packages\n",
    "import numpy as np\n",
    "%matplotlib widget\n",
    "from matplotlib import pyplot\n",
    "import cmocean\n",
    "\n",
    "# Shared postprocessing scripts\n",
    "sys.path.append(\"..\")\n",
    "import shared"
   ]
  },
  {
   "cell_type": "markdown",
   "metadata": {},
   "source": [
    "## Load observations"
   ]
  },
  {
   "cell_type": "code",
   "execution_count": null,
   "metadata": {},
   "outputs": [],
   "source": [
    "obs = shared.read_0d_observations(\"observations/nrt_chlsat.obs\")"
   ]
  },
  {
   "attachments": {},
   "cell_type": "markdown",
   "metadata": {},
   "source": [
    "# Reference simulation\n",
    "\n",
    "Forecast-only, no data assimilation"
   ]
  },
  {
   "cell_type": "code",
   "execution_count": null,
   "metadata": {},
   "outputs": [],
   "source": [
    "%cd reference"
   ]
  },
  {
   "cell_type": "code",
   "execution_count": null,
   "metadata": {},
   "outputs": [],
   "source": [
    "!eat-gotm"
   ]
  },
  {
   "cell_type": "markdown",
   "metadata": {},
   "source": [
    "## Load and plot results"
   ]
  },
  {
   "cell_type": "code",
   "execution_count": null,
   "metadata": {},
   "outputs": [],
   "source": [
    "# Load results\n",
    "time, z, chl, _, _ = shared.read_result(\"result.nc\", \"total_chlorophyll\")\n",
    "\n",
    "# Create figure\n",
    "fig, ((ax1, cax1), (ax2, cax2)) = pyplot.subplots(\n",
    "    figsize=(8, 6), nrows=2, ncols=2, width_ratios=[0.95, 0.05], sharex=\"col\"\n",
    ")\n",
    "\n",
    "# Plot surface chlorophyll\n",
    "shared.plot_0d_timeseries(ax1, time, chl[..., -1], obs)\n",
    "ax1.set_ylabel(\"chlorophyll (mg m⁻³)\")\n",
    "ax1.set_title(\"surface chlorophyll\")\n",
    "cax1.axis(\"off\")\n",
    "\n",
    "# Plot modelled chlorophyll throughout the water column\n",
    "pc, cb = shared.plot_1d_timeseries(ax2, time, z, chl, cmap=cmocean.cm.algae, cax=cax2)\n",
    "cb.set_label(\"chlorophyll (mg m⁻³)\")\n",
    "ax2.set_title(\"chlorophyll\")\n",
    "ax2.set_ylim(300.0, z.min())\n",
    "\n",
    "fig.tight_layout()\n",
    "\n",
    "fig.savefig(\"chl_ref.png\", dpi=150)"
   ]
  },
  {
   "cell_type": "markdown",
   "metadata": {},
   "source": [
    "# Data assimilation"
   ]
  },
  {
   "cell_type": "code",
   "execution_count": null,
   "metadata": {},
   "outputs": [],
   "source": [
    "%cd ../da\n",
    "shutil.copyfile(\"../reference/gotm.yaml\", \"gotm.yaml\")\n",
    "shutil.copyfile(\"../reference/fabm.yaml\", \"fabm.yaml\")\n",
    "!mpiexec -n 1 python run.py : -n 1 eat-gotm"
   ]
  },
  {
   "cell_type": "markdown",
   "metadata": {},
   "source": [
    "## Load and plot results\n",
    "\n",
    "### Chlorophyll"
   ]
  },
  {
   "cell_type": "code",
   "execution_count": null,
   "metadata": {},
   "outputs": [],
   "source": [
    "# Load results\n",
    "time_da, z_da, chl_da, _, _ = shared.read_result(\"result_0001.nc\", \"total_chlorophyll\")\n",
    "\n",
    "# Create figure\n",
    "fig, ((ax1, cax1), (ax2, cax2), (ax3, cax3)) = pyplot.subplots(\n",
    "    figsize=(8, 8),\n",
    "    nrows=3,\n",
    "    ncols=2,\n",
    "    sharex=\"col\",\n",
    "    width_ratios=[0.95, 0.05],\n",
    ")\n",
    "\n",
    "# Plot surface chlorophyll\n",
    "shared.plot_0d_timeseries(\n",
    "    ax1,\n",
    "    time_da,\n",
    "    chl_da[:, -1],\n",
    "    extra_series=[(\"model, no DA\", chl[:, -1])],\n",
    "    obs=obs,\n",
    "    label=\"model, DA (3DVar)\",\n",
    ")\n",
    "ax1.set_ylabel(f\"chlorophyll (mg m⁻³)\")\n",
    "ax1.set_title(\"surface chlorophyll (a)\")\n",
    "cax1.axis(\"off\")\n",
    "\n",
    "# Plot original modelled chlorophyll throughout the water column [free run]\n",
    "cf, cb = shared.plot_1d_timeseries(\n",
    "    ax2,\n",
    "    time,\n",
    "    z,\n",
    "    chl,\n",
    "    np.linspace(0.0, 0.5, 11),\n",
    "    cmap=cmocean.cm.algae,\n",
    "    extend=\"max\",\n",
    "    cax=cax2,\n",
    ")\n",
    "cb.set_label(\"chlorophyll (mg m⁻³)\")\n",
    "ax2.set_title(f\"chlorophyll without data assimilation (b)\")\n",
    "ax2.set_ylim(300.0, z.min())\n",
    "\n",
    "# Plot change in chlorophyll due to data assimilation\n",
    "chl_diff = chl_da - chl\n",
    "contours = np.linspace(-0.18, 0.18, 19)\n",
    "cf, cb = shared.plot_1d_timeseries(\n",
    "    ax3,\n",
    "    time_da,\n",
    "    z_da,\n",
    "    chl_diff,\n",
    "    contours,\n",
    "    cmap=cmocean.cm.balance,\n",
    "    extend=\"both\",\n",
    "    cax=cax3,\n",
    ")\n",
    "cb.set_label(\"chlorophyll difference (mg m⁻³)\")\n",
    "ax3.set_title(\"impact of data assimilation on chlorophyll [DA (3DVar) - no DA] (c)\")\n",
    "ax3.set_ylim(300.0, z.min())\n",
    "\n",
    "fig.tight_layout()\n",
    "\n",
    "fig.savefig(\"chl_da.png\", dpi=150)"
   ]
  },
  {
   "cell_type": "markdown",
   "metadata": {},
   "source": [
    "### Primary production"
   ]
  },
  {
   "cell_type": "code",
   "execution_count": null,
   "metadata": {},
   "outputs": [],
   "source": [
    "# Load results (aggregate production from 4 plankton functional types)\n",
    "pp_ref = []\n",
    "pp_da = []\n",
    "for pft in range(1, 5):\n",
    "    _, _, pp, _, _ = shared.read_result(\"../reference/result.nc\", f\"P{pft}_run\")\n",
    "    pp_ref.append(pp)\n",
    "    _, _, pp, _, _ = shared.read_result(\"result_0001.nc\", f\"P{pft}_run\")\n",
    "    pp_da.append(pp)\n",
    "pp_ref = np.sum(pp_ref, axis=0)\n",
    "pp_da = np.sum(pp_da, axis=0)\n",
    "\n",
    "# Create figure\n",
    "fig, ((ax1, cax1), (ax2, cax2)) = pyplot.subplots(\n",
    "    figsize=(8, 6),\n",
    "    nrows=2,\n",
    "    ncols=2,\n",
    "    sharex=\"col\",\n",
    "    width_ratios=[0.95, 0.05],\n",
    ")\n",
    "\n",
    "# Plot original modelled primary production throughout the water column [free run]\n",
    "cf, cb = shared.plot_1d_timeseries(\n",
    "    ax1,\n",
    "    time,\n",
    "    z,\n",
    "    pp_ref,\n",
    "    20,\n",
    "    extend=\"max\",\n",
    "    cax=cax1,\n",
    ")\n",
    "cb.set_label(\"primary production (mg m⁻³ d⁻¹)\")\n",
    "ax1.set_title(f\"primary production without data assimilation (a)\")\n",
    "ax1.set_ylim(200.0, z.min())\n",
    "\n",
    "# Plot change in chlorophyll due to data assimilation\n",
    "pp_diff = pp_da - pp_ref\n",
    "contours = np.linspace(-3, 3, 31)\n",
    "cf, cb = shared.plot_1d_timeseries(\n",
    "    ax2,\n",
    "    time_da,\n",
    "    z_da,\n",
    "    pp_diff,\n",
    "    contours,\n",
    "    cmap=cmocean.cm.balance,\n",
    "    extend=\"both\",\n",
    "    cax=cax2,\n",
    ")\n",
    "cb.set_label(\"pp difference (mg m⁻³ d⁻¹)\")\n",
    "ax2.set_title(\n",
    "    \"impact of data assimilation on primary production [DA (3DVar) - no DA] (b)\"\n",
    ")\n",
    "ax2.set_ylim(200.0, z.min())\n",
    "\n",
    "fig.tight_layout()\n",
    "\n",
    "fig.savefig(\"pp_da.png\", dpi=150)"
   ]
  },
  {
   "cell_type": "code",
   "execution_count": null,
   "metadata": {},
   "outputs": [],
   "source": []
  }
 ],
 "metadata": {
  "kernelspec": {
   "display_name": "test",
   "language": "python",
   "name": "python3"
  },
  "language_info": {
   "codemirror_mode": {
    "name": "ipython",
    "version": 3
   },
   "file_extension": ".py",
   "mimetype": "text/x-python",
   "name": "python",
   "nbconvert_exporter": "python",
   "pygments_lexer": "ipython3",
   "version": "3.12.7"
  }
 },
 "nbformat": 4,
 "nbformat_minor": 4
}
