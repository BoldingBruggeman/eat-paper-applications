{
 "cells": [
  {
   "cell_type": "markdown",
   "metadata": {},
   "source": [
    "## Import and configure"
   ]
  },
  {
   "cell_type": "code",
   "execution_count": null,
   "metadata": {
    "tags": []
   },
   "outputs": [],
   "source": [
    "# Imports from standard library\n",
    "import sys\n",
    "import os\n",
    "import datetime\n",
    "import warnings\n",
    "warnings.filterwarnings(\"ignore\")\n",
    "\n",
    "# Import of third party packages\n",
    "import numpy as np\n",
    "%matplotlib widget\n",
    "from matplotlib import pyplot\n",
    "import cmocean\n",
    "\n",
    "# EAT itself\n",
    "import eatpy\n",
    "\n",
    "# Shared postprocessing scripts\n",
    "sys.path.append(\"..\")\n",
    "import shared\n",
    "\n",
    "# Experiment configuration\n",
    "N = 20   # ensemble size\n",
    "plot_start = datetime.datetime(2021,1,1)\n",
    "\n",
    "# For automated testing we reduce the ensemble size\n",
    "if \"GITHUB_ACTIONS\" in os.environ:\n",
    "    N = 2"
   ]
  },
  {
   "cell_type": "markdown",
   "metadata": {},
   "source": [
    "## Load observations"
   ]
  },
  {
   "cell_type": "code",
   "execution_count": null,
   "metadata": {},
   "outputs": [],
   "source": [
    "sst_obs = shared.read_0d_observations(\"cci_sst.dat\")\n",
    "chl_obs = shared.read_0d_observations(\"cci_chl.dat\")\n",
    "\n",
    "# Undo log10 transformation for chlorophyll median and 25th and 75th percentiles\n",
    "chl_obs[:, 1:] = 10.0 ** chl_obs[:, 1:]"
   ]
  },
  {
   "attachments": {},
   "cell_type": "markdown",
   "metadata": {},
   "source": [
    "# Reference simulation\n",
    "\n",
    "Forecast-only, no data assimilation"
   ]
  },
  {
   "cell_type": "code",
   "execution_count": null,
   "metadata": {},
   "outputs": [],
   "source": [
    "!eat-gotm"
   ]
  },
  {
   "cell_type": "markdown",
   "metadata": {},
   "source": [
    "## Load results"
   ]
  },
  {
   "cell_type": "code",
   "execution_count": null,
   "metadata": {},
   "outputs": [],
   "source": [
    "time, z, temp, _, _ = shared.read_result('result.nc', \"temp\")\n",
    "time, z, chl, _, _ = shared.read_result('result.nc', \"total_chlorophyll_calculator_result\")\n",
    "sst = temp[..., -1]\n",
    "chl_sf = chl[..., -1]"
   ]
  },
  {
   "cell_type": "markdown",
   "metadata": {},
   "source": [
    "## Plot temperature"
   ]
  },
  {
   "cell_type": "code",
   "execution_count": null,
   "metadata": {},
   "outputs": [],
   "source": [
    "fig, ((ax1, cax1), (ax2, cax2)) = pyplot.subplots(figsize=(8,6), nrows=2, ncols=2, width_ratios=[0.95, 0.05], sharex='col')\n",
    "\n",
    "# Plot modelled and observed sea surface temperature\n",
    "shared.plot_0d_timeseries(ax1, time, sst, sst_obs)\n",
    "ax1.set_ylabel('temperature (°C)')\n",
    "ax1.set_title('sea surface temperature')\n",
    "cax1.axis('off')\n",
    "\n",
    "# Plot modelled temperature throughout the water column\n",
    "pc, cb = shared.plot_1d_timeseries(ax2, time, z, temp, cmap=cmocean.cm.thermal, cax=cax2)\n",
    "cb.set_label('temperature (°C)')\n",
    "ax2.set_title('model temperature')\n",
    "\n",
    "fig.tight_layout()\n",
    "\n",
    "fig.savefig('reference_sst.png', dpi=150)"
   ]
  },
  {
   "cell_type": "markdown",
   "metadata": {},
   "source": [
    "## Plot chlorophyll"
   ]
  },
  {
   "cell_type": "code",
   "execution_count": null,
   "metadata": {},
   "outputs": [],
   "source": [
    "fig, ((ax1, cax1), (ax2, cax2)) = pyplot.subplots(figsize=(8,6), nrows=2, ncols=2, width_ratios=[0.95, 0.05], sharex='col')\n",
    "\n",
    "shared.plot_0d_timeseries(ax1, time, chl_sf, chl_obs)\n",
    "ax1.set_ylabel('chlorophyll (mg m-3)')\n",
    "ax1.set_title('surface chlorophyll')\n",
    "cax1.axis('off')\n",
    "\n",
    "pc, cb = shared.plot_1d_timeseries(ax2, time, z, chl, cmap=cmocean.cm.algae, cax=cax2)\n",
    "cb.set_label('chlorophyll (mg m-3)')\n",
    "ax2.set_title('chlorophyll')\n",
    "\n",
    "fig.tight_layout()\n",
    "fig.savefig('reference_sst_chl.png', dpi=150)"
   ]
  },
  {
   "cell_type": "markdown",
   "metadata": {},
   "source": [
    "# Physics-only data assimilation\n",
    "\n",
    "## Create the ensemble"
   ]
  },
  {
   "cell_type": "code",
   "execution_count": null,
   "metadata": {},
   "outputs": [],
   "source": [
    "# Vary wind speeds (x and y components) and background mixing (minimum turbulent kinetic energy) \n",
    "gotm = eatpy.models.gotm.YAMLEnsemble(\"gotm.yaml\", N)\n",
    "with gotm:\n",
    "    gotm[\"surface/u10/scale_factor\"] = np.random.lognormal(sigma=0.2, size=N)\n",
    "    gotm[\"surface/v10/scale_factor\"] = np.random.lognormal(sigma=0.2, size=N)\n",
    "    gotm[\"turbulence/turb_param/k_min\"] *= np.random.lognormal(sigma=0.2, size=N)"
   ]
  },
  {
   "cell_type": "markdown",
   "metadata": {},
   "source": [
    "## Run data assimilation experiment"
   ]
  },
  {
   "cell_type": "code",
   "execution_count": null,
   "metadata": {},
   "outputs": [],
   "source": [
    "!mpiexec -n 1 python assimilate_sst.py : -n {N} eat-gotm --separate_gotm_yaml"
   ]
  },
  {
   "cell_type": "markdown",
   "metadata": {},
   "source": [
    "## Load results"
   ]
  },
  {
   "cell_type": "code",
   "execution_count": null,
   "metadata": {},
   "outputs": [],
   "source": [
    "enstime, ensz, temps, _, _ = shared.read_ensemble_result('result.nc', 'temp', N)\n",
    "enstime, ensz, chls, _, _ = shared.read_ensemble_result('result.nc', 'total_chlorophyll_calculator_result', N)\n",
    "ssts = temps[:, :, -1]\n",
    "chl_sf_phys_DA = chls[:, :, -1]"
   ]
  },
  {
   "cell_type": "markdown",
   "metadata": {},
   "source": [
    "## Plot"
   ]
  },
  {
   "cell_type": "code",
   "execution_count": null,
   "metadata": {},
   "outputs": [],
   "source": [
    "# Plot ensemble median sea surface temperature, along with original (no DA) result and observations\n",
    "fig, ((ax1, cax1), (ax2, cax2), (ax3, cax3)) = pyplot.subplots(figsize=(8,8), nrows=3, ncols=2, width_ratios=[0.95, 0.05], sharex='col')\n",
    "\n",
    "shared.plot_0d_ensemble_timeseries(ax1, enstime, ssts, [(\"model, no DA\", sst)], sst_obs, plot_spread=False, label=\"model, DA\")\n",
    "ax1.set_xlim(plot_start or time[0], time[-1])\n",
    "ax1.set_ylabel('temperature (°C)')\n",
    "ax1.legend(loc=(0.25, 0.65))\n",
    "ax1.set_title('sea surface temperature')\n",
    "cax1.axis('off')\n",
    "\n",
    "pc, cb = shared.plot_1d_ensemble_timeseries(ax2, enstime, ensz, temps, 10, cmap=cmocean.cm.thermal, cax=cax2)\n",
    "cb.set_label('temperature (°C)')\n",
    "ax2.set_title('temperature with assimilation of remotely sensed temperature');\n",
    "\n",
    "temp_diff = temps - temp[-enstime.size:, :]\n",
    "contours = np.linspace(-2.0, 2.0, 21)\n",
    "pc, cb = shared.plot_1d_ensemble_timeseries(ax3, enstime, ensz, temp_diff, contours, cmap='RdBu_r', extend='both', cax=cax3)\n",
    "cb.set_label('temperature difference (°C)')\n",
    "ax3.set_title('impact of data assimilation on temperature (DA - no DA)');\n",
    "\n",
    "ax1.set_xlim(plot_start or time[0], time[-1])\n",
    "\n",
    "fig.tight_layout()\n",
    "\n",
    "fig.savefig('ensemble_sst.png', dpi=150)"
   ]
  },
  {
   "cell_type": "markdown",
   "metadata": {},
   "source": [
    "# Physics + biogeochemistry data assimilation\n",
    "\n",
    "## Create the ensemble"
   ]
  },
  {
   "cell_type": "code",
   "execution_count": null,
   "metadata": {},
   "outputs": [],
   "source": [
    "gotm = eatpy.models.gotm.YAMLEnsemble(\"gotm.yaml\", N)\n",
    "fabm = eatpy.models.gotm.YAMLEnsemble(\"fabm.yaml\", N)\n",
    "with gotm, fabm:\n",
    "    gotm[\"surface/u10/scale_factor\"] = np.random.lognormal(sigma=0.2, size=N)\n",
    "    gotm[\"surface/v10/scale_factor\"] = np.random.lognormal(sigma=0.2, size=N)\n",
    "    gotm[\"turbulence/turb_param/k_min\"] = 5e-6 * np.random.lognormal(sigma=0.3, size=N)\n",
    "    gotm[\"fabm/yaml_file\"] = fabm.file_paths\n",
    "    fabm[\"instances/phy/parameters/mumax0\"] *= np.random.lognormal(sigma=0.3, size=N)\n",
    "    fabm[\"instances/dia/parameters/mumax0\"] *= np.random.lognormal(sigma=0.3, size=N)"
   ]
  },
  {
   "cell_type": "markdown",
   "metadata": {},
   "source": [
    "## Run data assimilation experiment"
   ]
  },
  {
   "cell_type": "code",
   "execution_count": null,
   "metadata": {},
   "outputs": [],
   "source": [
    "!mpiexec -n 1 python assimilate_sst_chl.py : -n {N} eat-gotm --separate_gotm_yaml"
   ]
  },
  {
   "cell_type": "markdown",
   "metadata": {},
   "source": [
    "## Load results"
   ]
  },
  {
   "cell_type": "code",
   "execution_count": null,
   "metadata": {},
   "outputs": [],
   "source": [
    "enstime, ensz, ens, _, _ = shared.read_ensemble_result(\"result.nc\", \"total_chlorophyll_calculator_result\", N)"
   ]
  },
  {
   "cell_type": "markdown",
   "metadata": {},
   "source": [
    "## Plot"
   ]
  },
  {
   "cell_type": "code",
   "execution_count": null,
   "metadata": {},
   "outputs": [],
   "source": [
    "fig, ((ax1, cax1), (ax2, cax2), (ax3, cax3)) = pyplot.subplots(\n",
    "    figsize=(10, 10),\n",
    "    nrows=3,\n",
    "    ncols=2,\n",
    "    sharex=\"col\",\n",
    "    width_ratios=[0.95, 0.05],\n",
    "    height_ratios=[0.4, 0.3, 0.3],\n",
    ")\n",
    "\n",
    "# Surface chlorophyll\n",
    "shared.plot_0d_ensemble_timeseries(\n",
    "    ax1,\n",
    "    enstime,\n",
    "    ens[:, :, -1],\n",
    "    [(\"model, no DA\", chl_sf), (\"model, phys DA\", np.median(chl_sf_phys_DA, axis=0))],\n",
    "    obs=chl_obs,\n",
    "    plot_spread=False,\n",
    "    label=\"model, phys+bgc DA\",\n",
    ")\n",
    "ax1.set_ylabel(f\"chlorophyll (mg m-3)\")\n",
    "ax1.set_title(\"surface chlorophyll\")\n",
    "ax1.set_ylim(0.0, 4.0)\n",
    "cax1.axis(\"off\")\n",
    "\n",
    "# Original modelled chlorophyll throughout the water column [free run]\n",
    "chl_contours = np.linspace(0.0, 5.0, 11)\n",
    "cf, cb = shared.plot_1d_timeseries(\n",
    "    ax2, time, z, chl, chl_contours, cmap=cmocean.cm.algae, extend=\"max\", cax=cax2\n",
    ")\n",
    "cb.set_label(\"chlorophyll (mg m-3)\")\n",
    "ax2.set_title(f\"chlorophyll without data assimilation\")\n",
    "\n",
    "# Modelled chlorophyll throughout the water column with data assimilaiton\n",
    "cf, cb = shared.plot_1d_ensemble_timeseries(\n",
    "    ax3, enstime, ensz, ens, chl_contours, cmap=cmocean.cm.algae, extend=\"max\", cax=cax3\n",
    ")\n",
    "cb.set_label(\"chlorophyll (mg m-3)\")\n",
    "ax3.set_title(\n",
    "    f\"chlorophyll with assimilation of remotely sensed temperature and chlorophyll\"\n",
    ")\n",
    "\n",
    "ax1.set_xlim(plot_start or time[0], time[-1])\n",
    "\n",
    "fig.tight_layout()\n",
    "\n",
    "fig.savefig(\"ensemble_sst_chl.png\", dpi=150)"
   ]
  },
  {
   "cell_type": "code",
   "execution_count": null,
   "metadata": {},
   "outputs": [],
   "source": []
  }
 ],
 "metadata": {
  "kernelspec": {
   "display_name": "Python 3 (ipykernel)",
   "language": "python",
   "name": "python3"
  },
  "language_info": {
   "codemirror_mode": {
    "name": "ipython",
    "version": 3
   },
   "file_extension": ".py",
   "mimetype": "text/x-python",
   "name": "python",
   "nbconvert_exporter": "python",
   "pygments_lexer": "ipython3",
   "version": "3.12.0"
  },
  "vscode": {
   "interpreter": {
    "hash": "e4cce46d6be9934fbd27f9ca0432556941ea5bdf741d4f4d64c6cd7f8dfa8fba"
   }
  }
 },
 "nbformat": 4,
 "nbformat_minor": 4
}
