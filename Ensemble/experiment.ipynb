{
 "cells": [
  {
   "cell_type": "markdown",
   "metadata": {},
   "source": [
    "## Import and configure"
   ]
  },
  {
   "cell_type": "code",
   "execution_count": null,
   "metadata": {
    "tags": []
   },
   "outputs": [],
   "source": [
    "# Imports from standard library\n",
    "import os.path\n",
    "import datetime\n",
    "import warnings\n",
    "warnings.filterwarnings('ignore')\n",
    "\n",
    "# Import of third party packages\n",
    "import numpy as np\n",
    "import netCDF4\n",
    "%matplotlib widget\n",
    "from matplotlib import pyplot\n",
    "from matplotlib import dates\n",
    "import cmocean\n",
    "\n",
    "import eatpy\n",
    "\n",
    "# Ensemble size\n",
    "N = 5\n",
    "plot_start = None"
   ]
  },
  {
   "cell_type": "markdown",
   "metadata": {},
   "source": [
    "## Load observations"
   ]
  },
  {
   "cell_type": "code",
   "execution_count": null,
   "metadata": {},
   "outputs": [],
   "source": [
    "# Temperature\n",
    "sst_obs = []\n",
    "with open('cci_sst.dat') as f:\n",
    "    for l in f:\n",
    "        if not l.startswith('#'):\n",
    "            dt, value, sd = l.rstrip().split('\\t')\n",
    "            mu = float(value)\n",
    "            sigma = float(sd)            \n",
    "            sst_obs.append([datetime.datetime.strptime(dt, '%Y-%m-%d %H:%M:%S'), mu, mu-0.67448*sigma, mu+0.67448*sigma])\n",
    "sst_obs = np.array(sst_obs).reshape(-1, 4)\n",
    "\n",
    "# Chlorophyll\n",
    "chl_obs = []\n",
    "with open('cci_chl.dat') as f:\n",
    "    for l in f:\n",
    "        if not l.startswith('#'):\n",
    "            dt, value, sd = l.rstrip().split('\\t')\n",
    "            mu = float(value)\n",
    "            sigma = float(sd)\n",
    "            chl_obs.append([datetime.datetime.strptime(dt, '%Y-%m-%d %H:%M:%S'), 10.**mu, 10.**(mu-0.67448*sigma), 10.**(mu+0.67448*sigma)])\n",
    "chl_obs = np.array(chl_obs).reshape(-1, 4)"
   ]
  },
  {
   "attachments": {},
   "cell_type": "markdown",
   "metadata": {},
   "source": [
    "# Reference simulation\n",
    "\n",
    "Forecast-only, no data assimilation"
   ]
  },
  {
   "cell_type": "code",
   "execution_count": null,
   "metadata": {},
   "outputs": [],
   "source": [
    "!eat-gotm"
   ]
  },
  {
   "cell_type": "markdown",
   "metadata": {},
   "source": [
    "## Load results"
   ]
  },
  {
   "cell_type": "code",
   "execution_count": null,
   "metadata": {},
   "outputs": [],
   "source": [
    "# Load simulation results\n",
    "with netCDF4.Dataset('result.nc') as nc:\n",
    "    time = netCDF4.num2date(nc['time'], nc['time'].units)\n",
    "    mpltime = dates.date2num(time)\n",
    "    z = -nc['z'][:, :, 0, 0]\n",
    "    temp = nc[\"temp\"][:, :, 0, 0]\n",
    "    sst = temp[:, -1]\n",
    "    chl = nc[\"total_chlorophyll_calculator_result\"][:, :, 0, 0]\n",
    "    chl_sf = chl[:, -1]"
   ]
  },
  {
   "cell_type": "markdown",
   "metadata": {},
   "source": [
    "## Plot temperature"
   ]
  },
  {
   "cell_type": "code",
   "execution_count": null,
   "metadata": {},
   "outputs": [],
   "source": [
    "fig, ((ax1, cax1), (ax2, cax2)) = pyplot.subplots(figsize=(8,6), nrows=2, ncols=2, width_ratios=[0.95, 0.05], sharex='col')\n",
    "\n",
    "# Plot modelled and observed sea surface temperature\n",
    "lower = sst_obs[:,1] - sst_obs[:,2]\n",
    "upper = sst_obs[:,3] - sst_obs[:,1]\n",
    "ax1.errorbar(sst_obs[:,0], sst_obs[:,1], yerr=[lower, upper], ecolor='k', elinewidth=1., fmt='.k', alpha=0.4, zorder=-1, label='satellite')\n",
    "ax1.plot_date(mpltime, sst, '-', label='model')\n",
    "ax1.set_xlim(plot_start or mpltime[0], mpltime[-1])\n",
    "ax1.set_ylabel('temperature (°C)')\n",
    "ax1.grid()\n",
    "ax1.legend()\n",
    "ax1.set_title('sea surface temperature')\n",
    "cax1.axis('off')\n",
    "\n",
    "# Plot modelled temperature throughout the water column\n",
    "mpltime_2d = np.broadcast_to(mpltime[:, np.newaxis], z.shape)\n",
    "pc = ax2.contourf(mpltime_2d, z, temp, 10, cmap=cmocean.cm.thermal)\n",
    "cb = fig.colorbar(pc, cax=cax2)\n",
    "cb.set_label('temperature (°C)')\n",
    "ax2.set_ylabel('depth (m)')\n",
    "ax2.set_title('model temperature')\n",
    "ax2.grid()\n",
    "ax2.xaxis.axis_date()\n",
    "ax2.set_ylim(z.max(), z.min())\n",
    "\n",
    "fig.tight_layout()\n",
    "\n",
    "fig.savefig('reference_sst.png', dpi=150)"
   ]
  },
  {
   "cell_type": "markdown",
   "metadata": {},
   "source": [
    "## Plot chlorophyll"
   ]
  },
  {
   "cell_type": "code",
   "execution_count": null,
   "metadata": {},
   "outputs": [],
   "source": [
    "fig, ((ax1, cax1), (ax2, cax2)) = pyplot.subplots(figsize=(8,6), nrows=2, ncols=2, width_ratios=[0.95, 0.05], sharex='col')\n",
    "\n",
    "lower = chl_obs[:,1] - chl_obs[:,2]\n",
    "upper = chl_obs[:,3] - chl_obs[:,1]\n",
    "ax1.errorbar(chl_obs[:,0], chl_obs[:,1], yerr=[lower, upper], ecolor='k', elinewidth=1., fmt='.k', alpha=0.4, zorder=-1, label='satellite')\n",
    "ax1.plot_date(mpltime, chl_sf, '-', color='C0', label='model')\n",
    "ax1.set_xlim(plot_start or mpltime[0], mpltime[-1])\n",
    "ax1.set_ylabel('chlorophyll (mg m-3)')\n",
    "ax1.grid()\n",
    "ax1.legend()\n",
    "ax1.set_title('surface chlorophyll')\n",
    "cax1.axis('off')\n",
    "\n",
    "mpltime_2d = np.broadcast_to(mpltime[:, np.newaxis], z.shape)\n",
    "pc = ax2.contourf(mpltime_2d, z, chl, 20, cmap=cmocean.cm.algae)\n",
    "cb = fig.colorbar(pc, cax=cax2)\n",
    "cb.set_label('chlorophyll (mg m-3)')\n",
    "ax2.set_ylabel('depth (m)')\n",
    "ax2.set_title('chlorophyll')\n",
    "ax2.xaxis.axis_date()\n",
    "ax2.set_ylim(z.max(), z.min())\n",
    "ax2.grid()\n",
    "\n",
    "fig.tight_layout()\n",
    "fig.savefig('reference_sst_chl.png', dpi=150)"
   ]
  },
  {
   "cell_type": "markdown",
   "metadata": {},
   "source": [
    "# Physics-only data assimilation\n",
    "\n",
    "## Create the ensemble"
   ]
  },
  {
   "cell_type": "code",
   "execution_count": null,
   "metadata": {},
   "outputs": [],
   "source": [
    "# Vary wind speeds (x and y components) and background mixing (minimum turbulent kinetic energy) \n",
    "gotm = eatpy.models.gotm.YAMLEnsemble(\"gotm.yaml\", N)\n",
    "with gotm:\n",
    "    gotm[\"surface/u10/scale_factor\"] = np.random.lognormal(sigma=0.2, size=N)\n",
    "    gotm[\"surface/v10/scale_factor\"] = np.random.lognormal(sigma=0.2, size=N)\n",
    "    gotm[\"turbulence/turb_param/k_min\"] *= np.random.lognormal(sigma=0.2, size=N)"
   ]
  },
  {
   "cell_type": "markdown",
   "metadata": {},
   "source": [
    "## Run data assimilation experiment"
   ]
  },
  {
   "cell_type": "code",
   "execution_count": null,
   "metadata": {},
   "outputs": [],
   "source": [
    "!mpiexec -n 1 python assimilate_sst.py : -n {N} eat-gotm --separate_gotm_yaml"
   ]
  },
  {
   "cell_type": "markdown",
   "metadata": {},
   "source": [
    "## Load results"
   ]
  },
  {
   "cell_type": "code",
   "execution_count": null,
   "metadata": {},
   "outputs": [],
   "source": [
    "# Open NetCDF output of all ensemble members\\n\",\n",
    "ncs = [netCDF4.Dataset('result_%04i.nc' % (i + 1)) for i in range(N)]\n",
    "\n",
    "# Read model temperature and coordinates\\n\",\n",
    "enstime = netCDF4.num2date(ncs[0]['time'], ncs[0]['time'].units)\n",
    "ensmpltime = dates.date2num(enstime)\n",
    "z = -ncs[0].variables['z'][:, :, 0, 0]\n",
    "temps = [nc[\"temp\"][:, :, 0, 0] for nc in ncs]\n",
    "ssts = [temp[:, -1] for temp in temps]\n",
    "chl_sf_phys_DA = [nc[\"total_chlorophyll_calculator_result\"][:, -1, 0, 0] for nc in ncs]\n",
    "\n",
    "for nc in ncs:\n",
    "    nc.close()"
   ]
  },
  {
   "cell_type": "markdown",
   "metadata": {},
   "source": [
    "## Plot"
   ]
  },
  {
   "cell_type": "code",
   "execution_count": null,
   "metadata": {},
   "outputs": [],
   "source": [
    "# Plot ensemble median sea surface temperature, along with original (no DA) result and observations\n",
    "fig, ((ax1, cax1), (ax2, cax2), (ax3, cax3)) = pyplot.subplots(figsize=(8,8), nrows=3, ncols=2, width_ratios=[0.95, 0.05], sharex='col')\n",
    "lower = sst_obs[:,1] - sst_obs[:,2]\n",
    "upper = sst_obs[:,3] - sst_obs[:,1]\n",
    "ax1.errorbar(sst_obs[:,0], sst_obs[:,1], yerr=[lower, upper], ecolor='k', elinewidth=1., fmt='.k', alpha=0.4, zorder=-1, label='satellite')\n",
    "ax1.plot_date(time, sst, '-', label='model, no DA')\n",
    "ax1.plot_date(enstime, np.median(ssts, axis=0), '-', label='model, DA')\n",
    "ax1.set_xlim(time[0], time[-1])\n",
    "ax1.set_xlim(plot_start or time[0], time[-1])\n",
    "ax1.set_ylabel('temperature (°C)')\n",
    "ax1.grid()\n",
    "ax1.legend(loc=(0.25, 0.65))\n",
    "ax1.set_title('sea surface temperature')\n",
    "cax1.axis('off')\n",
    "\n",
    "ens_med = np.median(temps, axis=0)\n",
    "pc = ax2.contourf(mpltime_2d, z, ens_med, 10, cmap=cmocean.cm.thermal)\n",
    "cb = fig.colorbar(pc, cax=cax2)\n",
    "cb.set_label('temperature (°C)')\n",
    "ax2.set_ylabel('depth (m)')\n",
    "ax2.set_title('temperature with assimilation of remotely sensed temperature');\n",
    "ax2.grid()\n",
    "ax2.xaxis.axis_date()\n",
    "ax2.set_ylim(z.max(), z.min())\n",
    "\n",
    "temp_diff = ens_med - temp[-enstime.size:, :]\n",
    "contours = np.linspace(-2.0, 2.0, 21)\n",
    "pc = ax3.contourf(mpltime_2d, z, temp_diff, cmap='RdBu_r', levels=contours, extend='both')\n",
    "cb = fig.colorbar(pc, cax=cax3)\n",
    "cb.set_label('temperature difference (°C)')\n",
    "ax3.set_ylabel('depth (m)')\n",
    "ax3.set_title('impact of data assimilation on temperature (DA - no DA)');\n",
    "ax3.grid()\n",
    "ax3.xaxis.axis_date()\n",
    "ax3.set_ylim(z.max(), z.min())\n",
    "\n",
    "fig.tight_layout()\n",
    "\n",
    "fig.savefig('ensemble_sst.png', dpi=150)"
   ]
  },
  {
   "cell_type": "markdown",
   "metadata": {},
   "source": [
    "# Physics + biogeochemistry data assimilation\n",
    "\n",
    "## Create the ensemble"
   ]
  },
  {
   "cell_type": "code",
   "execution_count": null,
   "metadata": {},
   "outputs": [],
   "source": [
    "gotm = eatpy.models.gotm.YAMLEnsemble(\"gotm.yaml\", N)\n",
    "fabm = eatpy.models.gotm.YAMLEnsemble(\"fabm.yaml\", N)\n",
    "with gotm, fabm:\n",
    "    gotm[\"surface/u10/scale_factor\"] = np.random.lognormal(sigma=0.2, size=N)\n",
    "    gotm[\"surface/v10/scale_factor\"] = np.random.lognormal(sigma=0.2, size=N)\n",
    "    gotm[\"turbulence/turb_param/k_min\"] = 5e-6 * np.random.lognormal(sigma=0.3, size=N)\n",
    "    gotm[\"fabm/yaml_file\"] = fabm.file_paths\n",
    "    fabm[\"instances/phy/parameters/mumax0\"] *= np.random.lognormal(sigma=0.3, size=N)\n",
    "    fabm[\"instances/dia/parameters/mumax0\"] *= np.random.lognormal(sigma=0.3, size=N)"
   ]
  },
  {
   "cell_type": "markdown",
   "metadata": {},
   "source": [
    "## Run data assimilation experiment"
   ]
  },
  {
   "cell_type": "code",
   "execution_count": null,
   "metadata": {},
   "outputs": [],
   "source": [
    "!mpiexec -n 1 python assimilate_sst_chl.py : -n {N} eat-gotm --separate_gotm_yaml"
   ]
  },
  {
   "cell_type": "markdown",
   "metadata": {},
   "source": [
    "## Load results"
   ]
  },
  {
   "cell_type": "code",
   "execution_count": null,
   "metadata": {},
   "outputs": [],
   "source": [
    "# Load ensemble results\n",
    "ncs = [netCDF4.Dataset('result_%04i.nc' % (i + 1)) for i in range(N)]\n",
    "enstime = netCDF4.num2date(ncs[0]['time'], ncs[0]['time'].units)\n",
    "ensmpltime = dates.date2num(enstime)\n",
    "z = -ncs[0].variables['z'][:, :, 0, 0]\n",
    "ens = [nc[\"total_chlorophyll_calculator_result\"][:, :, 0, 0] for nc in ncs]\n",
    "ens_sf = [v[:, -1] for v in ens]\n",
    "for nc in ncs:\n",
    "    nc.close()"
   ]
  },
  {
   "cell_type": "markdown",
   "metadata": {},
   "source": [
    "## Plot"
   ]
  },
  {
   "cell_type": "code",
   "execution_count": null,
   "metadata": {},
   "outputs": [],
   "source": [
    "fig, ((ax1, cax1), (ax2, cax2), (ax3, cax3)) = pyplot.subplots(figsize=(10,10), nrows=3, ncols=2, sharex='col', width_ratios=[0.95, 0.05], height_ratios=[0.4, 0.3, 0.3])\n",
    "low = chl_obs[:,1] - chl_obs[:,2]\n",
    "high = chl_obs[:,3] - chl_obs[:,1]\n",
    "#ax1.plot_date(obs[:,0], obs[:,1], '.k', alpha=0.4, label='satellite')\n",
    "ax1.errorbar(chl_obs[:,0], chl_obs[:,1], yerr=[low, high], ecolor='k', elinewidth=1., fmt='.k', alpha=0.4, zorder=-1, label='satellite')\n",
    "ax1.plot_date(time, chl_sf, '-', color='C0', label='model, no DA', alpha=0.8)\n",
    "ax1.plot_date(enstime, np.median(chl_sf_phys_DA, axis=0), '-', color='C1', label='model, phys DA', alpha=0.8)\n",
    "ax1.plot_date(enstime, np.median(ens_sf, axis=0), '-', color='C2', label='model, phys+bgc DA', alpha=0.8)\n",
    "ax1.set_xlim(time[0], time[-1])\n",
    "ax1.set_xlim(plot_start or time[0], time[-1])\n",
    "ax1.set_ylabel(f'chlorophyll (mg m-3)')\n",
    "ax1.grid()\n",
    "ax1.legend()\n",
    "ax1.set_title('surface chlorophyll')\n",
    "ax1.set_ylim(0, 4)\n",
    "cax1.axis('off')\n",
    "\n",
    "chl_contours = np.linspace(0., 5., 11)\n",
    "mpltime_2d = np.broadcast_to(ensmpltime[:, np.newaxis], z.shape)\n",
    "ens_med = np.median(ens, axis=0)\n",
    "ens_diff = ens_med - chl[-enstime.size:, :]\n",
    "pc = ax2.contourf(mpltime_2d, z, chl, chl_contours, cmap=cmocean.cm.algae, extend='max')\n",
    "cb = fig.colorbar(pc, cax=cax2)\n",
    "cb.set_label('chlorophyll (mg m-3)')\n",
    "ax2.set_ylabel('height (m)')\n",
    "ax2.set_title(f'chlorophyll without data assimilation');\n",
    "ax2.grid()\n",
    "ax2.xaxis.axis_date()\n",
    "ax2.set_ylim(z.max(), z.min())\n",
    "\n",
    "#pc = ax3.contourf(mpltime_2d, z, temp_diff, cmap='RdBu_r', levels=np.linspace(-3.5,3.5,21), extend='both')\n",
    "pc = ax3.contourf(mpltime_2d, z, ens_med, chl_contours, cmap=cmocean.cm.algae, extend='max')\n",
    "cb = fig.colorbar(pc, cax=cax3)\n",
    "cb.set_label('chlorophyll (mg m-3)')\n",
    "ax3.set_ylabel('height (m)')\n",
    "ax3.set_title(f'chlorophyll with assimilation of remotely sensed temperature and chlorophyll');\n",
    "ax3.grid()\n",
    "ax3.xaxis.axis_date()\n",
    "ax3.set_ylim(z.max(), z.min())\n",
    "\n",
    "fig.tight_layout()\n",
    "\n",
    "fig.savefig('ensemble_sst_chl.png', dpi=150)"
   ]
  },
  {
   "cell_type": "code",
   "execution_count": null,
   "metadata": {},
   "outputs": [],
   "source": []
  }
 ],
 "metadata": {
  "kernelspec": {
   "display_name": "Python 3 (ipykernel)",
   "language": "python",
   "name": "python3"
  },
  "language_info": {
   "codemirror_mode": {
    "name": "ipython",
    "version": 3
   },
   "file_extension": ".py",
   "mimetype": "text/x-python",
   "name": "python",
   "nbconvert_exporter": "python",
   "pygments_lexer": "ipython3",
   "version": "3.12.0"
  },
  "vscode": {
   "interpreter": {
    "hash": "e4cce46d6be9934fbd27f9ca0432556941ea5bdf741d4f4d64c6cd7f8dfa8fba"
   }
  }
 },
 "nbformat": 4,
 "nbformat_minor": 4
}
